{
 "cells": [
  {
   "cell_type": "code",
   "execution_count": 15,
   "metadata": {},
   "outputs": [],
   "source": [
    "import numpy as np\n",
    "import matplotlib.pyplot as plt\n",
    "%matplotlib inline"
   ]
  },
  {
   "cell_type": "code",
   "execution_count": 5,
   "metadata": {},
   "outputs": [],
   "source": [
    "def NN(m1, m2, w1, w2, b):\n",
    "    z=m1 * w1 + m2 * w2 + b\n",
    "    return sigmoid(z)\n",
    "def sigmoid(x):\n",
    "    return 1/(1 + np.exp(-x))"
   ]
  },
  {
   "cell_type": "code",
   "execution_count": 6,
   "metadata": {},
   "outputs": [],
   "source": [
    "w1 = np.random.randn()\n",
    "w2 = np.random.randn()\n",
    "b  = np.random.randn()"
   ]
  },
  {
   "cell_type": "code",
   "execution_count": 7,
   "metadata": {},
   "outputs": [
    {
     "data": {
      "text/plain": [
       "0.9443620587789294"
      ]
     },
     "execution_count": 7,
     "metadata": {},
     "output_type": "execute_result"
    }
   ],
   "source": [
    "NN(3, 1.5, w1, w2, b)"
   ]
  },
  {
   "cell_type": "code",
   "execution_count": 8,
   "metadata": {},
   "outputs": [
    {
     "data": {
      "text/plain": [
       "0.9452109052445289"
      ]
     },
     "execution_count": 8,
     "metadata": {},
     "output_type": "execute_result"
    }
   ],
   "source": [
    "NN(2,0.5,w1,w2,b)"
   ]
  },
  {
   "cell_type": "code",
   "execution_count": 11,
   "metadata": {},
   "outputs": [],
   "source": [
    "#flower problem [length,width,type(0/1)]"
   ]
  },
  {
   "cell_type": "code",
   "execution_count": 12,
   "metadata": {},
   "outputs": [],
   "source": [
    "data = [[3,1.5,1],\n",
    "        [2,1,0],\n",
    "        [4,1.5,1],\n",
    "        [3,1,0],\n",
    "        [3.5,0.5,1],\n",
    "        [2,0.5,0],\n",
    "        [5.5,1,1],\n",
    "        [1,1,0]]"
   ]
  },
  {
   "cell_type": "code",
   "execution_count": 13,
   "metadata": {},
   "outputs": [],
   "source": [
    "newfool = [4.5,1]"
   ]
  },
  {
   "cell_type": "code",
   "execution_count": 14,
   "metadata": {},
   "outputs": [
    {
     "data": {
      "text/plain": [
       "[3, 1.5, 1]"
      ]
     },
     "execution_count": 14,
     "metadata": {},
     "output_type": "execute_result"
    }
   ],
   "source": [
    "data[0]"
   ]
  },
  {
   "cell_type": "code",
   "execution_count": 28,
   "metadata": {},
   "outputs": [],
   "source": [
    "def sigp(x):\n",
    "    return sigmoid(x)*(1-sigmoid(x))"
   ]
  },
  {
   "cell_type": "code",
   "execution_count": 31,
   "metadata": {},
   "outputs": [
    {
     "data": {
      "text/plain": [
       "[]"
      ]
     },
     "execution_count": 31,
     "metadata": {},
     "output_type": "execute_result"
    },
    {
     "data": {
      "image/png": "[encoded data removed]",
      "text/plain": [
       "<Figure size 432x288 with 1 Axes>"
      ]
     },
     "metadata": {
      "needs_background": "light"
     },
     "output_type": "display_data"
    }
   ],
   "source": [
    "T = np.linspace(-6,6,100)\n",
    "Y = sigmoid(T)\n",
    "plt.plot(T,sigp(T),c='r')\n",
    "plt.plot(T,Y,c='b')\n",
    "plt.plot()"
   ]
  },
  {
   "cell_type": "code",
   "execution_count": 32,
   "metadata": {},
   "outputs": [],
   "source": [
    "#training loop"
   ]
  },
  {
   "cell_type": "code",
   "execution_count": 92,
   "metadata": {},
   "outputs": [
    {
     "name": "stdout",
     "output_type": "stream",
     "text": [
      "0.8913965938423211\n",
      "0.25995283307037126\n",
      "0.3960925722150119\n",
      "0.20758548416503608\n",
      "0.0646121713324526\n",
      "0.38116911679789156\n",
      "0.012021960872973126\n",
      "0.0015667791277625184\n",
      "0.07712375514280174\n",
      "0.02555038381290516\n",
      "0.014000319007402671\n",
      "0.0018774064527594559\n",
      "0.28688505639960427\n",
      "0.0035387431879645823\n",
      "0.010444627605873282\n",
      "0.002906151184488683\n",
      "0.00758169923835728\n",
      "0.06378760348145887\n",
      "0.0006900623721907785\n",
      "0.398181248257271\n",
      "0.3061858119162033\n",
      "0.0016622151059465142\n",
      "0.0016711482611328082\n",
      "0.0003998669330397074\n",
      "1.8697530683241834e-05\n",
      "0.2835926330567626\n",
      "0.03514563068993035\n",
      "0.01147145477771992\n",
      "0.001028862896191404\n",
      "0.00754155697277366\n",
      "4.9998523029541706e-05\n",
      "0.00685444624294965\n",
      "0.3395950907413178\n",
      "0.00876843552634545\n",
      "0.0010821671674150794\n",
      "0.5971167504824344\n",
      "8.839334755312638e-05\n",
      "0.02917334925827226\n",
      "0.009569661758307334\n",
      "0.014509025691798792\n",
      "0.00037787161511286207\n",
      "2.622670789321285e-05\n",
      "0.28755957152987915\n",
      "0.3235026671194868\n",
      "0.377011228922976\n",
      "1.7577464853258454e-06\n",
      "0.48788602965293654\n",
      "1.0905070273356534e-05\n",
      "0.015237434574122797\n",
      "0.017576759020724583\n"
     ]
    },
    {
     "data": {
      "text/plain": [
       "[<matplotlib.lines.Line2D at 0x2338ba93128>]"
      ]
     },
     "execution_count": 92,
     "metadata": {},
     "output_type": "execute_result"
    },
    {
     "data": {
      "image/png": "[encoded data removed]",
      "text/plain": [
       "<Figure size 432x288 with 1 Axes>"
      ]
     },
     "metadata": {
      "needs_background": "light"
     },
     "output_type": "display_data"
    }
   ],
   "source": [
    "learning_rate = .02\n",
    "costs = []\n",
    "w1 = np.random.randn()\n",
    "w2 = np.random.randn()\n",
    "b  = np.random.randn()\n",
    "for i in range(50000):\n",
    "    ri = np.random.randint(len(data))\n",
    "    point = data[ri]\n",
    "    \n",
    "    z = point[0]*w1 + point[1]*w2 +b\n",
    "    pred = sigmoid(z)\n",
    "    \n",
    "    target = point[2]\n",
    "    cost = np.square(pred - target)\n",
    "    costs.append(cost)\n",
    "    if i%1000 == 0:\n",
    "        print(cost)\n",
    "        \n",
    "    dcost_pred = 2*(pred-target)\n",
    "    dpred_dz = sigp(z)\n",
    "    \n",
    "    dz_dw1 = point[0]\n",
    "    dz_dw2 = point[1]\n",
    "    dz_db = 1\n",
    "    \n",
    "    dcost_dz = dcost_pred*dpred_dz\n",
    "    \n",
    "    dcost_dw1 = dcost_dz*dz_dw1\n",
    "    dcost_dw2 = dcost_dz*dz_dw1\n",
    "    dcost_db = dcost_dz*dz_db\n",
    "    \n",
    "    w1 = w1 - learning_rate*dcost_dw1\n",
    "    w2 = w2 - learning_rate*dcost_dw2\n",
    "    b = b - learning_rate*dcost_db\n",
    "plt.plot(costs)"
   ]
  },
  {
   "cell_type": "code",
   "execution_count": 101,
   "metadata": {},
   "outputs": [
    {
     "data": {
      "text/plain": [
       "0.9997908943352785"
      ]
     },
     "execution_count": 101,
     "metadata": {},
     "output_type": "execute_result"
    }
   ],
   "source": [
    "z = 5.5*w1 + 1*w2 +b\n",
    "pred = sigmoid(z)\n",
    "pred"
   ]
  },
  {
   "cell_type": "code",
   "execution_count": 39,
   "metadata": {},
   "outputs": [
    {
     "data": {
      "image/png": "[encoded data removed]",
      "text/plain": [
       "<Figure size 432x288 with 1 Axes>"
      ]
     },
     "metadata": {
      "needs_background": "light"
     },
     "output_type": "display_data"
    }
   ],
   "source": [
    "plt.axis([0,6,0,6])\n",
    "plt.grid()\n",
    "for i in range(len(data)):\n",
    "    point = data[i]\n",
    "    color = 'r'\n",
    "    if point[2]==0:\n",
    "        color = 'b'\n",
    "    plt.scatter(point[0],point[1],c=color)"
   ]
  },
  {
   "cell_type": "code",
   "execution_count": 94,
   "metadata": {},
   "outputs": [
    {
     "data": {
      "text/plain": [
       "0.9961463096539284"
      ]
     },
     "execution_count": 94,
     "metadata": {},
     "output_type": "execute_result"
    }
   ],
   "source": [
    "z = newfool[0]*w1 + newfool[1]*w2 + b\n",
    "pred = sigmoid(z)\n",
    "pred"
   ]
  },
  {
   "cell_type": "code",
   "execution_count": null,
   "metadata": {},
   "outputs": [],
   "source": []
  }
 ],
 "metadata": {
  "kernelspec": {
   "display_name": "Python [conda env:root]",
   "language": "python",
   "name": "conda-root-py"
  },
  "language_info": {
   "codemirror_mode": {
    "name": "ipython",
    "version": 3
   },
   "file_extension": ".py",
   "mimetype": "text/x-python",
   "name": "python",
   "nbconvert_exporter": "python",
   "pygments_lexer": "ipython3",
   "version": "3.7.0"
  }
 },
 "nbformat": 4,
 "nbformat_minor": 2
}
